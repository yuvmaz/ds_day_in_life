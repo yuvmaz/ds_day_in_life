{
 "cells": [
  {
   "cell_type": "code",
   "execution_count": null,
   "metadata": {},
   "outputs": [],
   "source": [
    "%pylab inline\n",
    "import pandas as pd\n",
    "from gower import gower_matrix"
   ]
  },
  {
   "cell_type": "code",
   "execution_count": null,
   "metadata": {},
   "outputs": [],
   "source": [
    "from sklearn.preprocessing import OneHotEncoder\n",
    "\n",
    "df = pd.read_csv('churn.csv')\n",
    "df['Area Code'] = df['Area Code'].astype(str)\n",
    "\n",
    "df['Churn?'] = df['Churn?'].apply(lambda x: 1 if x == \"True.\" else 0)\n",
    "df.drop(['Phone'], axis=1, inplace=True)\n",
    "df.head()"
   ]
  },
  {
   "cell_type": "code",
   "execution_count": null,
   "metadata": {},
   "outputs": [],
   "source": [
    "df.describe()"
   ]
  },
  {
   "cell_type": "code",
   "execution_count": null,
   "metadata": {},
   "outputs": [],
   "source": [
    "df['Churn?'].value_counts() / len(df)"
   ]
  },
  {
   "cell_type": "code",
   "execution_count": null,
   "metadata": {},
   "outputs": [],
   "source": [
    "%%time \n",
    "\n",
    "distances = gower_matrix(df[df.columns[:-2]])\n",
    "similarity = np.exp(-0.2 * distances / distances.std())"
   ]
  },
  {
   "cell_type": "code",
   "execution_count": null,
   "metadata": {},
   "outputs": [],
   "source": [
    "from sklearn.cluster import SpectralClustering\n",
    "\n",
    "clstr = SpectralClustering(affinity='precomputed', random_state=123456)\n",
    "df['cluster'] = clstr.fit_predict(similarity)\n",
    "\n",
    "df['cluster'].value_counts().sort_index()"
   ]
  },
  {
   "cell_type": "code",
   "execution_count": null,
   "metadata": {},
   "outputs": [],
   "source": [
    "n_clusters = len(df['cluster'].unique())\n",
    "descriptions = []\n",
    "\n",
    "for i in range(n_clusters):\n",
    "    descriptions.append(df[df.cluster == i].describe(include='all').loc[['unique','top','mean']])\n"
   ]
  },
  {
   "cell_type": "code",
   "execution_count": null,
   "metadata": {},
   "outputs": [],
   "source": [
    "def build_feature_box_plot(df, feature_name, ax):\n",
    "    n_clusters = len(df['cluster'].unique()) \n",
    "    \n",
    "    \n",
    "\n",
    "    if feature_name == 'Area Code':\n",
    "        codes = dict([(v,k) for (k,v) in enumerate(df['Area Code'].unique().tolist())])\n",
    "        data = [[df[df.cluster == i][feature_name].apply(lambda x: codes[x]).mean()] for i in range(n_clusters)]\n",
    "        avg = df['Area Code'].apply(lambda x: codes[x]).mean()\n",
    "    elif df[feature_name].dtype == dtype('O'):\n",
    "        data = [[df[df.cluster == i][feature_name].apply(lambda x: 1 if x == 'yes' else 0).mean()] for i in range(n_clusters)]\n",
    "        avg = df[feature_name].apply(lambda x: 1 if x == 'yes' else 0).mean()\n",
    "    else:\n",
    "        data = [df[df.cluster == i][feature_name].values for i in range(n_clusters)]\n",
    "        avg = df[feature_name].mean()\n",
    "    \n",
    "    ax.boxplot(data, whis=[2.5,97.5])\n",
    "    ax.hlines(avg, 1, n_clusters, colors='red', linestyles='--')\n",
    "    ax.set_title(feature_name)\n",
    "    ax.set_xlabel(\"Cluster #\")\n",
    "    ax.set_ylabel(\"Value\")\n",
    "    ax.set_xticks(range(1,n_clusters+1), range(0,n_clusters))\n",
    "       \n",
    "features = df.columns.tolist()\n",
    "for x in ['State', 'cluster']:\n",
    "    features.remove(x)\n",
    "\n",
    "n_cols = 1\n",
    "n_rows = int(np.ceil(len(features) / n_cols))\n",
    "\n",
    "fig, axs = subplots(n_rows, n_cols, figsize=(20,40))\n",
    "\n",
    "for (this_ax, this_feature) in zip(axs.ravel(), features):\n",
    "    build_feature_box_plot(df, this_feature, this_ax)"
   ]
  },
  {
   "cell_type": "code",
   "execution_count": null,
   "metadata": {},
   "outputs": [],
   "source": [
    "df[df.cluster == 0].describe(include='all').loc[['unique','top','mean']]"
   ]
  },
  {
   "cell_type": "code",
   "execution_count": null,
   "metadata": {},
   "outputs": [],
   "source": [
    "df[df.cluster == 1].describe(include='all').loc[['unique','top','mean']]"
   ]
  },
  {
   "cell_type": "code",
   "execution_count": null,
   "metadata": {},
   "outputs": [],
   "source": [
    "df[df.cluster == 2].describe(include='all').loc[['unique','top','mean']]"
   ]
  },
  {
   "cell_type": "code",
   "execution_count": null,
   "metadata": {},
   "outputs": [],
   "source": [
    "df[df.cluster == 3].describe(include='all').loc[['unique','top','mean']]"
   ]
  },
  {
   "cell_type": "code",
   "execution_count": null,
   "metadata": {},
   "outputs": [],
   "source": [
    "df[df.cluster == 4].describe(include='all').loc[['unique','top','mean']]"
   ]
  },
  {
   "cell_type": "code",
   "execution_count": null,
   "metadata": {},
   "outputs": [],
   "source": [
    "df[df.cluster == 5].describe(include='all').loc[['unique','top','mean']]"
   ]
  },
  {
   "cell_type": "code",
   "execution_count": null,
   "metadata": {},
   "outputs": [],
   "source": [
    "df[df.cluster == 6].describe(include='all').loc[['unique','top','mean']]"
   ]
  },
  {
   "cell_type": "code",
   "execution_count": null,
   "metadata": {},
   "outputs": [],
   "source": [
    "df[df.cluster ==7].describe(include='all').loc[['unique','top','mean']]"
   ]
  },
  {
   "cell_type": "code",
   "execution_count": null,
   "metadata": {},
   "outputs": [],
   "source": [
    "cluster_0 = df[df.cluster == 0].reset_index()\n",
    "cluster_0['Churn?'].value_counts()"
   ]
  },
  {
   "cell_type": "code",
   "execution_count": null,
   "metadata": {},
   "outputs": [],
   "source": [
    "ohe1 = OneHotEncoder(sparse=False, )\n",
    "res = ohe1.fit_transform(cluster_0[['Area Code']])\n",
    "\n",
    "encoded_area_code = pd.DataFrame(data=res, columns=['Area Code ' + c for c in ohe1.categories_])\n"
   ]
  },
  {
   "cell_type": "code",
   "execution_count": null,
   "metadata": {},
   "outputs": [],
   "source": [
    "cluster_0 = pd.concat([encoded_area_code, cluster_0],axis=1,join='inner')\n",
    "\n",
    "cluster_0['Int\\'l Plan'] = df['Int\\'l Plan'].apply(lambda x: 1 if x == 'yes' else 0)\n",
    "cluster_0['VMail Plan'] = df['VMail Plan'].apply(lambda x: 1 if x == 'yes' else 0)\n",
    "\n",
    "cluster_0.drop(['State','Area Code','cluster','index'], axis=1, inplace=True)\n",
    "cluster_0"
   ]
  },
  {
   "cell_type": "code",
   "execution_count": null,
   "metadata": {},
   "outputs": [],
   "source": [
    "from sklearn.model_selection import train_test_split\n",
    "\n",
    "X_train, X_test, y_train, y_test = train_test_split(cluster_0[cluster_0.columns[:-1]], \n",
    "                                                    cluster_0[cluster_0.columns[-1]], test_size=0.2,\n",
    "                                                    stratify=cluster_0[cluster_0.columns[-1]], random_state=12345)\n",
    "\n",
    "X_train.shape, y_train.shape, X_test.shape, y_test.shape"
   ]
  },
  {
   "cell_type": "code",
   "execution_count": null,
   "metadata": {},
   "outputs": [],
   "source": [
    "from sklearn.ensemble import RandomForestClassifier\n",
    "\n",
    "rf = RandomForestClassifier(n_estimators=6, random_state=123456)\n",
    "rf.fit(X_train, y_train)"
   ]
  },
  {
   "cell_type": "code",
   "execution_count": null,
   "metadata": {},
   "outputs": [],
   "source": [
    "from sklearn.metrics import classification_report, accuracy_score\n",
    "\n",
    "test_preds = rf.predict(X_test)\n",
    "\n",
    "print(\"Test Set Accuracy:  \", accuracy_score(y_test, test_preds), \"\\n\\n\")\n",
    "\n",
    "\n",
    "print(classification_report(y_test, rf.predict(X_test)))"
   ]
  },
  {
   "cell_type": "code",
   "execution_count": null,
   "metadata": {},
   "outputs": [],
   "source": [
    "from sklearn.metrics import plot_precision_recall_curve\n",
    "\n",
    "_, ax = subplots(1,1,figsize=(20,7))\n",
    "plot_precision_recall_curve(rf, X_test, y_test, ax=ax, name='Churn Probability')\n",
    "ax.set_xticks(np.arange(0,1.01,0.1))\n",
    "ax.grid('both')"
   ]
  }
 ],
 "metadata": {
  "kernelspec": {
   "display_name": "Python 3",
   "language": "python",
   "name": "python3"
  },
  "language_info": {
   "codemirror_mode": {
    "name": "ipython",
    "version": 3
   },
   "file_extension": ".py",
   "mimetype": "text/x-python",
   "name": "python",
   "nbconvert_exporter": "python",
   "pygments_lexer": "ipython3",
   "version": "3.7.3"
  }
 },
 "nbformat": 4,
 "nbformat_minor": 2
}
